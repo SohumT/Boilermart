{
  "cells": [
    {
      "cell_type": "markdown",
      "metadata": {
        "id": "view-in-github",
        "colab_type": "text"
      },
      "source": [
        "<a href=\"https://colab.research.google.com/github/SohumT/BoilerMart/blob/main/Copy_of_Pytorch_Workshop_Intro_MNIST_CNN.ipynb\" target=\"_parent\"><img src=\"https://colab.research.google.com/assets/colab-badge.svg\" alt=\"Open In Colab\"/></a>"
      ]
    },
    {
      "cell_type": "markdown",
      "metadata": {
        "id": "KqzGmXp1FLHm"
      },
      "source": [
        "## **Reminder: Save your own copy first, do not directly running this Notebook**\n",
        "\n",
        "#### Go to 'File'-> 'Save a Copy in Drive'"
      ]
    },
    {
      "cell_type": "markdown",
      "metadata": {
        "id": "yOVU3b1s4Jad"
      },
      "source": [
        "# Automatic Differentiation"
      ]
    },
    {
      "cell_type": "code",
      "execution_count": null,
      "metadata": {
        "colab": {
          "base_uri": "https://localhost:8080/"
        },
        "id": "Z4G0UUSN4G23",
        "outputId": "ba64ab6f-7074-40c2-e4c3-b28c1df3ee77"
      },
      "outputs": [
        {
          "output_type": "stream",
          "name": "stdout",
          "text": [
            "tensor([1., 1., 1., 1., 1.]) tensor([0., 0., 0.])\n",
            "tensor([[-0.9087,  0.9289, -0.0339],\n",
            "        [-0.8214, -1.0104,  1.6073],\n",
            "        [ 0.1678, -0.0578, -1.1245],\n",
            "        [-1.1222,  0.3099,  1.3921],\n",
            "        [ 0.0498,  0.7864, -0.1908]], requires_grad=True) tensor([-0.4721,  0.0621, -0.1748], requires_grad=True) tensor([-3.1067,  1.0192,  1.4752], grad_fn=<AddBackward0>)\n",
            "tensor(1.0174, grad_fn=<BinaryCrossEntropyWithLogitsBackward0>)\n"
          ]
        }
      ],
      "source": [
        "import torch\n",
        "\n",
        "x = torch.ones(5)  # input tensor\n",
        "y = torch.zeros(3)  # true output\n",
        "w = torch.randn(5, 3, requires_grad=True) # parameter\n",
        "b = torch.randn(3, requires_grad=True) # parameter\n",
        "z = torch.matmul(x, w)+b # computed output\n",
        "loss = torch.nn.functional.binary_cross_entropy_with_logits(z, y) # differences between z and y, i.e., loss function\n",
        "\n",
        "print(x, y)\n",
        "print(w, b, z)\n",
        "print(loss)"
      ]
    },
    {
      "cell_type": "markdown",
      "metadata": {
        "id": "-oqDmb4A4D9i"
      },
      "source": [
        "### Computing Gradients\n",
        "\n",
        "To optimize weights of parameters in the neural network, we need to\n",
        "compute the derivatives of our loss function with respect to parameters,\n",
        "namely, we need $\\frac{\\partial loss}{\\partial w}$ and\n",
        "$\\frac{\\partial loss}{\\partial b}$ under some fixed values of\n",
        "``x`` and ``y``. To compute those derivatives, we call\n",
        "``loss.backward()``, and then retrieve the values from ``w.grad`` and\n",
        "``b.grad``:\n",
        "\n",
        "\n"
      ]
    },
    {
      "cell_type": "code",
      "execution_count": null,
      "metadata": {
        "colab": {
          "base_uri": "https://localhost:8080/"
        },
        "id": "hcvUOy7y5IRx",
        "outputId": "a8d61d8c-1182-4edf-8cc0-9e615c24a9a6"
      },
      "outputs": [
        {
          "output_type": "stream",
          "name": "stdout",
          "text": [
            "tensor([[0.0143, 0.2449, 0.2713],\n",
            "        [0.0143, 0.2449, 0.2713],\n",
            "        [0.0143, 0.2449, 0.2713],\n",
            "        [0.0143, 0.2449, 0.2713],\n",
            "        [0.0143, 0.2449, 0.2713]])\n",
            "tensor([0.0143, 0.2449, 0.2713])\n"
          ]
        }
      ],
      "source": [
        "loss.backward()\n",
        "print(w.grad)\n",
        "print(b.grad)"
      ]
    },
    {
      "cell_type": "code",
      "execution_count": null,
      "metadata": {
        "colab": {
          "base_uri": "https://localhost:8080/"
        },
        "id": "iK4LFx7hcLN5",
        "outputId": "34fb925c-d11e-403d-a516-6962f6b010c7"
      },
      "outputs": [
        {
          "output_type": "stream",
          "name": "stdout",
          "text": [
            "torch.Size([5, 3])\n",
            "torch.Size([3])\n"
          ]
        }
      ],
      "source": [
        "print(w.shape)\n",
        "print(b.shape)"
      ]
    },
    {
      "cell_type": "markdown",
      "metadata": {
        "id": "-7owbd5740jT"
      },
      "source": [
        "# Training Convolutional Neural Network on Hand-written Digits Dataset"
      ]
    },
    {
      "cell_type": "code",
      "execution_count": null,
      "metadata": {
        "id": "i_cLBUrkXRsT"
      },
      "outputs": [],
      "source": [
        "import torch\n",
        "import torchvision\n",
        "import numpy as np\n",
        "import matplotlib.pyplot as plt\n",
        "import torch.nn as nn\n",
        "from torch.utils.data import Dataset, DataLoader\n",
        "from torchvision.datasets import MNIST"
      ]
    },
    {
      "cell_type": "code",
      "execution_count": null,
      "metadata": {
        "colab": {
          "base_uri": "https://localhost:8080/"
        },
        "id": "8F7qnOhOXnnp",
        "outputId": "2f3a6b73-3662-45b1-ae3f-2a4da70ca7fc"
      },
      "outputs": [
        {
          "output_type": "stream",
          "name": "stdout",
          "text": [
            "Downloading http://yann.lecun.com/exdb/mnist/train-images-idx3-ubyte.gz\n",
            "Downloading http://yann.lecun.com/exdb/mnist/train-images-idx3-ubyte.gz to dataset/MNIST/raw/train-images-idx3-ubyte.gz\n"
          ]
        },
        {
          "output_type": "stream",
          "name": "stderr",
          "text": [
            "100%|██████████| 9912422/9912422 [00:00<00:00, 138991094.84it/s]"
          ]
        },
        {
          "output_type": "stream",
          "name": "stdout",
          "text": [
            "Extracting dataset/MNIST/raw/train-images-idx3-ubyte.gz to dataset/MNIST/raw\n"
          ]
        },
        {
          "output_type": "stream",
          "name": "stderr",
          "text": [
            "\n"
          ]
        },
        {
          "output_type": "stream",
          "name": "stdout",
          "text": [
            "\n",
            "Downloading http://yann.lecun.com/exdb/mnist/train-labels-idx1-ubyte.gz\n",
            "Downloading http://yann.lecun.com/exdb/mnist/train-labels-idx1-ubyte.gz to dataset/MNIST/raw/train-labels-idx1-ubyte.gz\n"
          ]
        },
        {
          "output_type": "stream",
          "name": "stderr",
          "text": [
            "100%|██████████| 28881/28881 [00:00<00:00, 104247585.05it/s]\n"
          ]
        },
        {
          "output_type": "stream",
          "name": "stdout",
          "text": [
            "Extracting dataset/MNIST/raw/train-labels-idx1-ubyte.gz to dataset/MNIST/raw\n",
            "\n",
            "Downloading http://yann.lecun.com/exdb/mnist/t10k-images-idx3-ubyte.gz\n",
            "Downloading http://yann.lecun.com/exdb/mnist/t10k-images-idx3-ubyte.gz to dataset/MNIST/raw/t10k-images-idx3-ubyte.gz\n"
          ]
        },
        {
          "output_type": "stream",
          "name": "stderr",
          "text": [
            "100%|██████████| 1648877/1648877 [00:00<00:00, 44647747.22it/s]\n"
          ]
        },
        {
          "output_type": "stream",
          "name": "stdout",
          "text": [
            "Extracting dataset/MNIST/raw/t10k-images-idx3-ubyte.gz to dataset/MNIST/raw\n",
            "\n",
            "Downloading http://yann.lecun.com/exdb/mnist/t10k-labels-idx1-ubyte.gz\n",
            "Downloading http://yann.lecun.com/exdb/mnist/t10k-labels-idx1-ubyte.gz to dataset/MNIST/raw/t10k-labels-idx1-ubyte.gz\n"
          ]
        },
        {
          "output_type": "stream",
          "name": "stderr",
          "text": [
            "100%|██████████| 4542/4542 [00:00<00:00, 20528587.03it/s]\n"
          ]
        },
        {
          "output_type": "stream",
          "name": "stdout",
          "text": [
            "Extracting dataset/MNIST/raw/t10k-labels-idx1-ubyte.gz to dataset/MNIST/raw\n",
            "\n"
          ]
        }
      ],
      "source": [
        "## Create dataloader\n",
        "\n",
        "# Define batch size, batch size is how much data you feed for training in one iteration\n",
        "batch_size_train = 128 # We use a small batch size here for training\n",
        "batch_size_test = 128 #\n",
        "\n",
        "# define how image transformed\n",
        "image_transform = torchvision.transforms.Compose([\n",
        "                               torchvision.transforms.ToTensor(),\n",
        "                               torchvision.transforms.Normalize(\n",
        "                                 (0.1307,), (0.3081,))\n",
        "                             ])\n",
        "#image datasets\n",
        "train_dataset = torchvision.datasets.MNIST('dataset/',\n",
        "                                           train=True,\n",
        "                                           download=True,\n",
        "                                           transform=image_transform)\n",
        "test_dataset = torchvision.datasets.MNIST('dataset/',\n",
        "                                          train=False,\n",
        "                                          download=True,\n",
        "                                          transform=image_transform)\n",
        "#data loaders\n",
        "train_loader = torch.utils.data.DataLoader(train_dataset,\n",
        "                                           batch_size=batch_size_train,\n",
        "                                           shuffle=True, drop_last=True)\n",
        "test_loader = torch.utils.data.DataLoader(test_dataset,\n",
        "                                          batch_size=batch_size_test,\n",
        "                                          shuffle=False)"
      ]
    },
    {
      "cell_type": "markdown",
      "metadata": {
        "id": "AVfdY6VgaYpq"
      },
      "source": [
        "## Data Visualization"
      ]
    },
    {
      "cell_type": "code",
      "execution_count": null,
      "metadata": {
        "colab": {
          "base_uri": "https://localhost:8080/",
          "height": 192
        },
        "id": "FdbRYjq3aHkS",
        "outputId": "ae9ee791-0e2d-4d57-c198-9ac64ac02067"
      },
      "outputs": [
        {
          "output_type": "display_data",
          "data": {
            "text/plain": [
              "<Figure size 2000x400 with 10 Axes>"
            ],
            "image/png": "[encoded data removed]"
          },
          "metadata": {}
        }
      ],
      "source": [
        "## Data Visualization\n",
        "images = train_dataset.data[:10]\n",
        "\n",
        "plt.figure(figsize=(20,4))\n",
        "for i in range(10):\n",
        "  plt.subplot(1, 10, i+1)\n",
        "  if i == 4:\n",
        "    plt.title('Example MNIST Images', fontdict={'size': 15})\n",
        "  plt.imshow(images[i].reshape(28, 28), cmap='gray')\n",
        "  plt.axis('off')"
      ]
    },
    {
      "cell_type": "code",
      "execution_count": null,
      "metadata": {
        "id": "g7OgllLkPF-6"
      },
      "outputs": [],
      "source": []
    },
    {
      "cell_type": "markdown",
      "metadata": {
        "id": "Ia3VYqDmPLm8"
      },
      "source": [
        "## Build a MLP with 2 hidden layers"
      ]
    },
    {
      "cell_type": "code",
      "execution_count": null,
      "metadata": {
        "id": "Iec_KE88PM3N"
      },
      "outputs": [],
      "source": [
        "import torch.nn.functional as F\n",
        "\n",
        "class MLP(nn.Module):\n",
        "    def __init__(self):\n",
        "        super(MLP, self).__init__()\n",
        "        self.fc1 = nn.Linear(784, 512)\n",
        "        self.bn1 = nn.BatchNorm1d(512)\n",
        "        self.fc2 = nn.Linear(512, 256)\n",
        "        self.bn2 = nn.BatchNorm1d(256)\n",
        "        self.fc3 = nn.Linear(256, 10)\n",
        "\n",
        "        self.relu = nn.ReLU()\n",
        "\n",
        "    def forward(self, x):\n",
        "        ## x \\in [N=batch size, C=1, H=28, W=28] --> Flatten --> [N, 784]\n",
        "        x = x.view(x.shape[0], -1)\n",
        "        ## layer 1\n",
        "        x = self.relu(self.fc1(x))\n",
        "\n",
        "        ## layer 2\n",
        "        x = self.relu(self.fc2(x))\n",
        "        x = self.fc3(x)\n",
        "        return x"
      ]
    },
    {
      "cell_type": "code",
      "execution_count": null,
      "metadata": {
        "colab": {
          "base_uri": "https://localhost:8080/"
        },
        "id": "veCzR30iPvNw",
        "outputId": "8427df99-47b7-4027-b647-01899c256eb7"
      },
      "outputs": [
        {
          "output_type": "stream",
          "name": "stdout",
          "text": [
            "----------------------------------------------------------------\n",
            "        Layer (type)               Output Shape         Param #\n",
            "================================================================\n",
            "            Linear-1                  [-1, 512]         401,920\n",
            "              ReLU-2                  [-1, 512]               0\n",
            "            Linear-3                  [-1, 256]         131,328\n",
            "              ReLU-4                  [-1, 256]               0\n",
            "            Linear-5                   [-1, 10]           2,570\n",
            "================================================================\n",
            "Total params: 535,818\n",
            "Trainable params: 535,818\n",
            "Non-trainable params: 0\n",
            "----------------------------------------------------------------\n",
            "Input size (MB): 0.00\n",
            "Forward/backward pass size (MB): 0.01\n",
            "Params size (MB): 2.04\n",
            "Estimated Total Size (MB): 2.06\n",
            "----------------------------------------------------------------\n"
          ]
        }
      ],
      "source": [
        "from torchsummary import summary\n",
        "mlp = MLP()\n",
        "mlp.cuda()\n",
        "summary(mlp, (1, 28, 28))"
      ]
    },
    {
      "cell_type": "markdown",
      "metadata": {
        "id": "3jh70tKFbNA0"
      },
      "source": [
        "## Build Convolutional Neural Network\n",
        "\n",
        "<!-- Network Structure: -->\n",
        "<!--\n",
        "  Convolution(1, 32, 3)->BatchNorm(32)->ReLU()  \n",
        "  ->Max Pooling(2)  \n",
        "  ->Convolution(32, 64, 3)->BatchNorm(64)->ReLU()  \n",
        "  ->Max Pooling(2)  \n",
        "  ->Convolution(64, 128, 3)->BatchNorm(128)->ReLU()  \n",
        "  ->GlobalAveragePooling(7)  \n",
        "  ->Linear(128, 64)->ReLU()  \n",
        "  ->Dropout(0.5)  \n",
        "  ->Linear(64, 10) -->"
      ]
    },
    {
      "cell_type": "markdown",
      "metadata": {
        "id": "H7TBGLMGPKkJ"
      },
      "source": []
    },
    {
      "cell_type": "code",
      "execution_count": null,
      "metadata": {
        "id": "JAf-gP7oayEk"
      },
      "outputs": [],
      "source": [
        "import torch.nn.functional as F\n",
        "\n",
        "class CNN(nn.Module):\n",
        "    def __init__(self):\n",
        "        super(CNN, self).__init__()\n",
        "        self.conv1 = nn.Conv2d(1, 32, kernel_size=3, padding=1)\n",
        "        self.bn1 = nn.BatchNorm2d(32)\n",
        "        self.conv2 = nn.Conv2d(32, 64, kernel_size=3, padding=1)\n",
        "        self.bn2 = nn.BatchNorm2d(64)\n",
        "        self.conv3 = nn.Conv2d(64, 128, kernel_size=3, padding=1)\n",
        "        self.bn3 = nn.BatchNorm2d(128)\n",
        "\n",
        "        self.maxpool = nn.MaxPool2d(2)\n",
        "        self.relu = nn.ReLU()\n",
        "\n",
        "        self.fc1 = nn.Linear(128*9, 10)\n",
        "\n",
        "    def forward(self, x):\n",
        "        ## x \\in [N=batch size, C=1, H=28, W=28]\n",
        "        ## Block 1\n",
        "        x = self.relu(self.bn1(self.conv1(x))) #inner-most perform convolution -> then perform batch normalization then do relu activation\n",
        "        x = self.maxpool(x)\n",
        "\n",
        "        ## Block 2\n",
        "        x = self.relu(self.bn2(self.conv2(x)))\n",
        "        x = self.maxpool(x)\n",
        "\n",
        "        ## Block 3\n",
        "        x = self.relu(self.bn3(self.conv3(x)))\n",
        "        x = self.maxpool(x)\n",
        "\n",
        "        ## x [B, C=128, H=3, W=3] -> view -> [B, 128*3*3]\n",
        "\n",
        "        x = x.view(x.shape[0], -1)\n",
        "\n",
        "        ## [B, D=128*3*3] -> [B, C=10]\n",
        "        x = self.fc1(x)\n",
        "        return x"
      ]
    },
    {
      "cell_type": "code",
      "execution_count": null,
      "metadata": {
        "colab": {
          "base_uri": "https://localhost:8080/"
        },
        "id": "5fC81oE_g1sC",
        "outputId": "0085b401-900e-4d16-a8d6-7944793f47bb"
      },
      "outputs": [
        {
          "output_type": "stream",
          "name": "stdout",
          "text": [
            "----------------------------------------------------------------\n",
            "        Layer (type)               Output Shape         Param #\n",
            "================================================================\n",
            "            Conv2d-1           [-1, 32, 28, 28]             320\n",
            "       BatchNorm2d-2           [-1, 32, 28, 28]              64\n",
            "              ReLU-3           [-1, 32, 28, 28]               0\n",
            "         MaxPool2d-4           [-1, 32, 14, 14]               0\n",
            "            Conv2d-5           [-1, 64, 14, 14]          18,496\n",
            "       BatchNorm2d-6           [-1, 64, 14, 14]             128\n",
            "              ReLU-7           [-1, 64, 14, 14]               0\n",
            "         MaxPool2d-8             [-1, 64, 7, 7]               0\n",
            "            Conv2d-9            [-1, 128, 7, 7]          73,856\n",
            "      BatchNorm2d-10            [-1, 128, 7, 7]             256\n",
            "             ReLU-11            [-1, 128, 7, 7]               0\n",
            "        MaxPool2d-12            [-1, 128, 3, 3]               0\n",
            "           Linear-13                   [-1, 10]          11,530\n",
            "================================================================\n",
            "Total params: 104,650\n",
            "Trainable params: 104,650\n",
            "Non-trainable params: 0\n",
            "----------------------------------------------------------------\n",
            "Input size (MB): 0.00\n",
            "Forward/backward pass size (MB): 1.09\n",
            "Params size (MB): 0.40\n",
            "Estimated Total Size (MB): 1.49\n",
            "----------------------------------------------------------------\n"
          ]
        }
      ],
      "source": [
        "from torchsummary import summary\n",
        "cnn = CNN()\n",
        "cnn.cuda()\n",
        "summary(cnn, (1, 28, 28))"
      ]
    },
    {
      "cell_type": "markdown",
      "metadata": {
        "id": "8yr6GV6JFKAw"
      },
      "source": []
    },
    {
      "cell_type": "markdown",
      "metadata": {
        "id": "sLV7fX-UiRYe"
      },
      "source": [
        "## Training and Testing"
      ]
    },
    {
      "cell_type": "code",
      "execution_count": null,
      "metadata": {
        "id": "ptPDMLF9g7Gv"
      },
      "outputs": [],
      "source": [
        "##define train function\n",
        "def train(model, train_loader, optimizer, epoch, log_interval=10000):\n",
        "    tk0 = tqdm(train_loader, total=int(len(train_loader)))\n",
        "    loss_epoch = 0\n",
        "    correct = 0\n",
        "    total = 0\n",
        "\n",
        "    model.train()\n",
        "    for batch_idx, (data, target) in enumerate(tk0):\n",
        "        data, target = data.cuda(), target.cuda()\n",
        "        optimizer.zero_grad()\n",
        "        output = model(data)\n",
        "        correct += output.argmax(dim=1).eq(target).sum().item()\n",
        "        total += target.shape[0]\n",
        "        loss = Loss(output, target)\n",
        "        loss.backward()\n",
        "        optimizer.step()\n",
        "        loss_epoch += loss\n",
        "        tk0.set_postfix(loss=loss_epoch.item()/(batch_idx+1), Acc=correct/total*100.)\n",
        "\n",
        "    return (loss_epoch / (batch_idx+1)),\n",
        "\n",
        "##define test function\n",
        "def test(model, test_loader):\n",
        "    test_loss = 0\n",
        "    correct = 0\n",
        "\n",
        "    model.eval()\n",
        "    with torch.no_grad():\n",
        "        for batch_idx, (data, target) in enumerate(test_loader):\n",
        "            data, target = data.cuda(), target.cuda()\n",
        "            output = model(data)\n",
        "            test_loss += Loss(output, target)\n",
        "            pred = output.argmax(dim=1)\n",
        "            correct += pred.eq(target.view_as(pred)).sum().item()\n",
        "    test_loss /= (len(test_loader.dataset)/batch_size_test)\n",
        "\n",
        "    print('Testing, Average loss: {:.4f}, Accuracy: {}/{} ({:.2f}%)\\n'.format(\n",
        "        test_loss, correct, len(test_loader.dataset),\n",
        "        100. * correct / len(test_loader.dataset)))\n",
        "\n",
        "    return (100. * correct / len(test_loader.dataset))"
      ]
    },
    {
      "cell_type": "code",
      "execution_count": null,
      "metadata": {
        "colab": {
          "base_uri": "https://localhost:8080/",
          "height": 153,
          "referenced_widgets": [
            "1d11003f364e46a18c4138b967f69349",
            "6613f4ecd4404133bb07e561d84e5599",
            "a6f8974763724d3093f61ed35f578b8a",
            "e14fdbc0306a4d09bcf8340292ca3b38",
            "a0551f80e0734bd99897e6215d5f3ab9",
            "909af81e95e64137a2b6889bcbfa31be",
            "dada075a0a6a4f19b9d0cc211cee2bd5",
            "c66fb072c26f4ae3b9a827ffe7a07de5",
            "8eebf728917c423fa3f5b00ed0022b41",
            "917dca435bea46f393f0352b876bd816",
            "80b0fb9e8bcb472c89ce593f7308c058"
          ]
        },
        "id": "aZ7f9v--kQPD",
        "outputId": "bc330fca-c400-4b67-cd81-bdb295384d96"
      },
      "outputs": [
        {
          "output_type": "stream",
          "name": "stdout",
          "text": [
            "Epoch: 1/1\n"
          ]
        },
        {
          "output_type": "stream",
          "name": "stderr",
          "text": [
            "<ipython-input-11-5c7a0ab339f8>:3: TqdmDeprecationWarning: This function will be removed in tqdm==5.0.0\n",
            "Please use `tqdm.notebook.tqdm` instead of `tqdm.tqdm_notebook`\n",
            "  tk0 = tqdm(train_loader, total=int(len(train_loader)))\n"
          ]
        },
        {
          "output_type": "display_data",
          "data": {
            "text/plain": [
              "  0%|          | 0/468 [00:00<?, ?it/s]"
            ],
            "application/vnd.jupyter.widget-view+json": {
              "version_major": 2,
              "version_minor": 0,
              "model_id": "1d11003f364e46a18c4138b967f69349"
            }
          },
          "metadata": {}
        },
        {
          "output_type": "stream",
          "name": "stdout",
          "text": [
            "Testing, Average loss: 0.0358, Accuracy: 9888/10000 (98.88%)\n",
            "\n"
          ]
        }
      ],
      "source": [
        "from tqdm import tqdm_notebook as tqdm\n",
        "\n",
        "\"\"\"\n",
        "  Please change these four hyper-parameters to see the results\n",
        "  Note that decay steps should be smaller than total epochs\n",
        "\"\"\"\n",
        "learning_rate = 1e-3\n",
        "weight_decay = 5e-4\n",
        "total_epochs = 5\n",
        "decay_steps = [3]\n",
        "\n",
        "\"\"\"\n",
        "  Choose Model you want to use:\n",
        "  Convolutional Neural Network or Multi-Layer Perceptron\n",
        "\"\"\"\n",
        "model = cnn\n",
        "# model = mlp\n",
        "\n",
        "Loss = nn.CrossEntropyLoss()\n",
        "optimizer = torch.optim.Adam(model.parameters(), lr=learning_rate, weight_decay=weight_decay)\n",
        "lr_scheduler = torch.optim.lr_scheduler.MultiStepLR(optimizer, milestones=decay_steps)\n",
        "\n",
        "\n",
        "trn_losses = []\n",
        "test_accs = []\n",
        "\n",
        "for epoch in range(1, total_epochs + 1):\n",
        "    print('Epoch: {}/{}'.format(epoch, total_epochs))\n",
        "    trn_losses.append(train(model, train_loader, optimizer, epoch))\n",
        "    test_accs.append(test(model, test_loader))\n",
        "    lr_scheduler.step()"
      ]
    },
    {
      "cell_type": "markdown",
      "metadata": {
        "id": "P40a4sAiJsog"
      },
      "source": [
        "## Prediction Illustration"
      ]
    },
    {
      "cell_type": "code",
      "execution_count": null,
      "metadata": {
        "id": "37fjsIu8wM3m"
      },
      "outputs": [],
      "source": [
        "correct_imgs = []\n",
        "wrong_imgs = []\n",
        "wrong_preds = []\n",
        "wrong_labels = []\n",
        "\n",
        "model.eval()\n",
        "with torch.no_grad():\n",
        "    for img, label in test_dataset:\n",
        "        img = img.cuda()\n",
        "        output = model(img.unsqueeze(0))\n",
        "        pred = output.argmax(dim=1)\n",
        "        if pred.item() == label:\n",
        "          correct_imgs.append(img.detach().cpu().numpy())\n",
        "        else:\n",
        "          wrong_imgs.append(img.detach().cpu().numpy())\n",
        "          wrong_preds.append(pred.item())\n",
        "          wrong_labels.append(label)"
      ]
    },
    {
      "cell_type": "markdown",
      "metadata": {
        "id": "kHzW3sOoMu3L"
      },
      "source": [
        "### Correctly predicted testing images"
      ]
    },
    {
      "cell_type": "code",
      "execution_count": null,
      "metadata": {
        "colab": {
          "base_uri": "https://localhost:8080/",
          "height": 153
        },
        "id": "J2OqCSikLsqB",
        "outputId": "232ac4c1-d139-43b8-c7fe-5ecd165812de"
      },
      "outputs": [
        {
          "output_type": "display_data",
          "data": {
            "text/plain": [
              "<Figure size 1600x400 with 9 Axes>"
            ],
            "image/png": "[encoded data removed]"
          },
          "metadata": {}
        }
      ],
      "source": [
        "plt.figure(figsize=(16, 4))\n",
        "for i in range(9):\n",
        "  plt.subplot(1, 9, i+1)\n",
        "  plt.imshow(correct_imgs[i][0], cmap='gray')\n",
        "  plt.axis('off')"
      ]
    },
    {
      "cell_type": "markdown",
      "metadata": {
        "id": "wmRiQwxrMzHj"
      },
      "source": [
        "### Wrongly predicted testing images"
      ]
    },
    {
      "cell_type": "code",
      "execution_count": null,
      "metadata": {
        "colab": {
          "base_uri": "https://localhost:8080/",
          "height": 177
        },
        "id": "bxezHSMCM3un",
        "outputId": "5f46e775-7bc3-4421-b352-4ce64d1ff5a7"
      },
      "outputs": [
        {
          "output_type": "display_data",
          "data": {
            "text/plain": [
              "<Figure size 1600x400 with 9 Axes>"
            ],
            "image/png": "[encoded data removed]"
          },
          "metadata": {}
        }
      ],
      "source": [
        "plt.figure(figsize=(16, 4))\n",
        "for i in range(9):\n",
        "  plt.subplot(1, 9, i+1)\n",
        "  plt.imshow(wrong_imgs[i][0], cmap='gray')\n",
        "  plt.axis('off')\n",
        "  plt.title('Pred: {}({})'.format(wrong_preds[i], wrong_labels[i]), fontdict={'size': 14})"
      ]
    },
    {
      "cell_type": "markdown",
      "metadata": {
        "id": "RrHaXcTRqJu4"
      },
      "source": [
        "## Filter Visualization For CNN"
      ]
    },
    {
      "cell_type": "code",
      "execution_count": null,
      "metadata": {
        "colab": {
          "base_uri": "https://localhost:8080/"
        },
        "id": "prE9rCiwkiNa",
        "outputId": "83f2f02a-98d8-45e5-8a68-13640f051e01"
      },
      "outputs": [
        {
          "output_type": "stream",
          "name": "stdout",
          "text": [
            "(32, 1, 3, 3)\n",
            "(64, 32, 3, 3)\n"
          ]
        }
      ],
      "source": [
        "filters1 = model.conv1.weight.detach().cpu().numpy()\n",
        "filters2 = model.conv2.weight.detach().cpu().numpy()\n",
        "print(filters1.shape)\n",
        "print(filters2.shape)"
      ]
    },
    {
      "cell_type": "code",
      "execution_count": null,
      "metadata": {
        "colab": {
          "base_uri": "https://localhost:8080/",
          "height": 178
        },
        "id": "vTkumhRavVzA",
        "outputId": "bc8f2304-7729-4013-aaab-cbfcfd3bbe4c"
      },
      "outputs": [
        {
          "output_type": "display_data",
          "data": {
            "text/plain": [
              "<Figure size 1600x400 with 9 Axes>"
            ],
            "image/png": "[encoded data removed]"
          },
          "metadata": {}
        }
      ],
      "source": [
        "plt.figure(figsize=(16, 4))\n",
        "for i in range(9):\n",
        "  plt.subplot(1, 9, i+1)\n",
        "  plt.imshow(filters1[i].reshape(3, 3), cmap='gray')\n",
        "  plt.axis('off')\n",
        "  if i == 4:\n",
        "    plt.title('1st Conv layer filter visualization', fontdict={'size': 15})"
      ]
    },
    {
      "cell_type": "code",
      "execution_count": null,
      "metadata": {
        "colab": {
          "base_uri": "https://localhost:8080/",
          "height": 178
        },
        "id": "X2YlIjDMvdjK",
        "outputId": "8c79951a-13c5-48c9-dd89-27025ed1e9d8"
      },
      "outputs": [
        {
          "output_type": "display_data",
          "data": {
            "text/plain": [
              "<Figure size 1600x400 with 9 Axes>"
            ],
            "image/png": "[encoded data removed]"
          },
          "metadata": {}
        }
      ],
      "source": [
        "plt.figure(figsize=(16, 4))\n",
        "for i in range(9):\n",
        "  plt.subplot(1, 9, i+1)\n",
        "  plt.imshow(filters2[i, 0].reshape(3, 3), cmap='gray')\n",
        "  plt.axis('off')\n",
        "  if i == 4:\n",
        "    plt.title('2nd Conv layer filter visualization', fontdict={'size': 15})"
      ]
    },
    {
      "cell_type": "code",
      "execution_count": null,
      "metadata": {
        "id": "t-pZH3tY3t3l"
      },
      "outputs": [],
      "source": []
    }
  ],
  "metadata": {
    "accelerator": "GPU",
    "colab": {
      "provenance": [],
      "include_colab_link": true
    },
    "kernelspec": {
      "display_name": "Python 3",
      "name": "python3"
    },
    "language_info": {
      "name": "python"
    },
    "widgets": {
      "application/vnd.jupyter.widget-state+json": {
        "1d11003f364e46a18c4138b967f69349": {
          "model_module": "@jupyter-widgets/controls",
          "model_name": "HBoxModel",
          "model_module_version": "1.5.0",
          "state": {
            "_dom_classes": [],
            "_model_module": "@jupyter-widgets/controls",
            "_model_module_version": "1.5.0",
            "_model_name": "HBoxModel",
            "_view_count": null,
            "_view_module": "@jupyter-widgets/controls",
            "_view_module_version": "1.5.0",
            "_view_name": "HBoxView",
            "box_style": "",
            "children": [
              "IPY_MODEL_6613f4ecd4404133bb07e561d84e5599",
              "IPY_MODEL_a6f8974763724d3093f61ed35f578b8a",
              "IPY_MODEL_e14fdbc0306a4d09bcf8340292ca3b38"
            ],
            "layout": "IPY_MODEL_a0551f80e0734bd99897e6215d5f3ab9"
          }
        },
        "6613f4ecd4404133bb07e561d84e5599": {
          "model_module": "@jupyter-widgets/controls",
          "model_name": "HTMLModel",
          "model_module_version": "1.5.0",
          "state": {
            "_dom_classes": [],
            "_model_module": "@jupyter-widgets/controls",
            "_model_module_version": "1.5.0",
            "_model_name": "HTMLModel",
            "_view_count": null,
            "_view_module": "@jupyter-widgets/controls",
            "_view_module_version": "1.5.0",
            "_view_name": "HTMLView",
            "description": "",
            "description_tooltip": null,
            "layout": "IPY_MODEL_909af81e95e64137a2b6889bcbfa31be",
            "placeholder": "​",
            "style": "IPY_MODEL_dada075a0a6a4f19b9d0cc211cee2bd5",
            "value": "100%"
          }
        },
        "a6f8974763724d3093f61ed35f578b8a": {
          "model_module": "@jupyter-widgets/controls",
          "model_name": "FloatProgressModel",
          "model_module_version": "1.5.0",
          "state": {
            "_dom_classes": [],
            "_model_module": "@jupyter-widgets/controls",
            "_model_module_version": "1.5.0",
            "_model_name": "FloatProgressModel",
            "_view_count": null,
            "_view_module": "@jupyter-widgets/controls",
            "_view_module_version": "1.5.0",
            "_view_name": "ProgressView",
            "bar_style": "success",
            "description": "",
            "description_tooltip": null,
            "layout": "IPY_MODEL_c66fb072c26f4ae3b9a827ffe7a07de5",
            "max": 468,
            "min": 0,
            "orientation": "horizontal",
            "style": "IPY_MODEL_8eebf728917c423fa3f5b00ed0022b41",
            "value": 468
          }
        },
        "e14fdbc0306a4d09bcf8340292ca3b38": {
          "model_module": "@jupyter-widgets/controls",
          "model_name": "HTMLModel",
          "model_module_version": "1.5.0",
          "state": {
            "_dom_classes": [],
            "_model_module": "@jupyter-widgets/controls",
            "_model_module_version": "1.5.0",
            "_model_name": "HTMLModel",
            "_view_count": null,
            "_view_module": "@jupyter-widgets/controls",
            "_view_module_version": "1.5.0",
            "_view_name": "HTMLView",
            "description": "",
            "description_tooltip": null,
            "layout": "IPY_MODEL_917dca435bea46f393f0352b876bd816",
            "placeholder": "​",
            "style": "IPY_MODEL_80b0fb9e8bcb472c89ce593f7308c058",
            "value": " 468/468 [00:32&lt;00:00, 24.76it/s, Acc=96.8, loss=0.113]"
          }
        },
        "a0551f80e0734bd99897e6215d5f3ab9": {
          "model_module": "@jupyter-widgets/base",
          "model_name": "LayoutModel",
          "model_module_version": "1.2.0",
          "state": {
            "_model_module": "@jupyter-widgets/base",
            "_model_module_version": "1.2.0",
            "_model_name": "LayoutModel",
            "_view_count": null,
            "_view_module": "@jupyter-widgets/base",
            "_view_module_version": "1.2.0",
            "_view_name": "LayoutView",
            "align_content": null,
            "align_items": null,
            "align_self": null,
            "border": null,
            "bottom": null,
            "display": null,
            "flex": null,
            "flex_flow": null,
            "grid_area": null,
            "grid_auto_columns": null,
            "grid_auto_flow": null,
            "grid_auto_rows": null,
            "grid_column": null,
            "grid_gap": null,
            "grid_row": null,
            "grid_template_areas": null,
            "grid_template_columns": null,
            "grid_template_rows": null,
            "height": null,
            "justify_content": null,
            "justify_items": null,
            "left": null,
            "margin": null,
            "max_height": null,
            "max_width": null,
            "min_height": null,
            "min_width": null,
            "object_fit": null,
            "object_position": null,
            "order": null,
            "overflow": null,
            "overflow_x": null,
            "overflow_y": null,
            "padding": null,
            "right": null,
            "top": null,
            "visibility": null,
            "width": null
          }
        },
        "909af81e95e64137a2b6889bcbfa31be": {
          "model_module": "@jupyter-widgets/base",
          "model_name": "LayoutModel",
          "model_module_version": "1.2.0",
          "state": {
            "_model_module": "@jupyter-widgets/base",
            "_model_module_version": "1.2.0",
            "_model_name": "LayoutModel",
            "_view_count": null,
            "_view_module": "@jupyter-widgets/base",
            "_view_module_version": "1.2.0",
            "_view_name": "LayoutView",
            "align_content": null,
            "align_items": null,
            "align_self": null,
            "border": null,
            "bottom": null,
            "display": null,
            "flex": null,
            "flex_flow": null,
            "grid_area": null,
            "grid_auto_columns": null,
            "grid_auto_flow": null,
            "grid_auto_rows": null,
            "grid_column": null,
            "grid_gap": null,
            "grid_row": null,
            "grid_template_areas": null,
            "grid_template_columns": null,
            "grid_template_rows": null,
            "height": null,
            "justify_content": null,
            "justify_items": null,
            "left": null,
            "margin": null,
            "max_height": null,
            "max_width": null,
            "min_height": null,
            "min_width": null,
            "object_fit": null,
            "object_position": null,
            "order": null,
            "overflow": null,
            "overflow_x": null,
            "overflow_y": null,
            "padding": null,
            "right": null,
            "top": null,
            "visibility": null,
            "width": null
          }
        },
        "dada075a0a6a4f19b9d0cc211cee2bd5": {
          "model_module": "@jupyter-widgets/controls",
          "model_name": "DescriptionStyleModel",
          "model_module_version": "1.5.0",
          "state": {
            "_model_module": "@jupyter-widgets/controls",
            "_model_module_version": "1.5.0",
            "_model_name": "DescriptionStyleModel",
            "_view_count": null,
            "_view_module": "@jupyter-widgets/base",
            "_view_module_version": "1.2.0",
            "_view_name": "StyleView",
            "description_width": ""
          }
        },
        "c66fb072c26f4ae3b9a827ffe7a07de5": {
          "model_module": "@jupyter-widgets/base",
          "model_name": "LayoutModel",
          "model_module_version": "1.2.0",
          "state": {
            "_model_module": "@jupyter-widgets/base",
            "_model_module_version": "1.2.0",
            "_model_name": "LayoutModel",
            "_view_count": null,
            "_view_module": "@jupyter-widgets/base",
            "_view_module_version": "1.2.0",
            "_view_name": "LayoutView",
            "align_content": null,
            "align_items": null,
            "align_self": null,
            "border": null,
            "bottom": null,
            "display": null,
            "flex": null,
            "flex_flow": null,
            "grid_area": null,
            "grid_auto_columns": null,
            "grid_auto_flow": null,
            "grid_auto_rows": null,
            "grid_column": null,
            "grid_gap": null,
            "grid_row": null,
            "grid_template_areas": null,
            "grid_template_columns": null,
            "grid_template_rows": null,
            "height": null,
            "justify_content": null,
            "justify_items": null,
            "left": null,
            "margin": null,
            "max_height": null,
            "max_width": null,
            "min_height": null,
            "min_width": null,
            "object_fit": null,
            "object_position": null,
            "order": null,
            "overflow": null,
            "overflow_x": null,
            "overflow_y": null,
            "padding": null,
            "right": null,
            "top": null,
            "visibility": null,
            "width": null
          }
        },
        "8eebf728917c423fa3f5b00ed0022b41": {
          "model_module": "@jupyter-widgets/controls",
          "model_name": "ProgressStyleModel",
          "model_module_version": "1.5.0",
          "state": {
            "_model_module": "@jupyter-widgets/controls",
            "_model_module_version": "1.5.0",
            "_model_name": "ProgressStyleModel",
            "_view_count": null,
            "_view_module": "@jupyter-widgets/base",
            "_view_module_version": "1.2.0",
            "_view_name": "StyleView",
            "bar_color": null,
            "description_width": ""
          }
        },
        "917dca435bea46f393f0352b876bd816": {
          "model_module": "@jupyter-widgets/base",
          "model_name": "LayoutModel",
          "model_module_version": "1.2.0",
          "state": {
            "_model_module": "@jupyter-widgets/base",
            "_model_module_version": "1.2.0",
            "_model_name": "LayoutModel",
            "_view_count": null,
            "_view_module": "@jupyter-widgets/base",
            "_view_module_version": "1.2.0",
            "_view_name": "LayoutView",
            "align_content": null,
            "align_items": null,
            "align_self": null,
            "border": null,
            "bottom": null,
            "display": null,
            "flex": null,
            "flex_flow": null,
            "grid_area": null,
            "grid_auto_columns": null,
            "grid_auto_flow": null,
            "grid_auto_rows": null,
            "grid_column": null,
            "grid_gap": null,
            "grid_row": null,
            "grid_template_areas": null,
            "grid_template_columns": null,
            "grid_template_rows": null,
            "height": null,
            "justify_content": null,
            "justify_items": null,
            "left": null,
            "margin": null,
            "max_height": null,
            "max_width": null,
            "min_height": null,
            "min_width": null,
            "object_fit": null,
            "object_position": null,
            "order": null,
            "overflow": null,
            "overflow_x": null,
            "overflow_y": null,
            "padding": null,
            "right": null,
            "top": null,
            "visibility": null,
            "width": null
          }
        },
        "80b0fb9e8bcb472c89ce593f7308c058": {
          "model_module": "@jupyter-widgets/controls",
          "model_name": "DescriptionStyleModel",
          "model_module_version": "1.5.0",
          "state": {
            "_model_module": "@jupyter-widgets/controls",
            "_model_module_version": "1.5.0",
            "_model_name": "DescriptionStyleModel",
            "_view_count": null,
            "_view_module": "@jupyter-widgets/base",
            "_view_module_version": "1.2.0",
            "_view_name": "StyleView",
            "description_width": ""
          }
        }
      }
    }
  },
  "nbformat": 4,
  "nbformat_minor": 0
}